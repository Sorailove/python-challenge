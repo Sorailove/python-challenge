{
 "cells": [
  {
   "cell_type": "code",
   "execution_count": 20,
   "metadata": {},
   "outputs": [],
   "source": [
    "import os\n",
    "import csv"
   ]
  },
  {
   "cell_type": "code",
   "execution_count": 21,
   "metadata": {},
   "outputs": [],
   "source": [
    "PyPoll_csv = os.path.join(\"../Resources\",\"election_data.csv\")"
   ]
  },
  {
   "cell_type": "code",
   "execution_count": 22,
   "metadata": {},
   "outputs": [],
   "source": [
    "count = 0\n",
    "candidatelist = []\n",
    "unique_candidate = []\n",
    "vote_count = []\n",
    "vote_percent = []"
   ]
  },
  {
   "cell_type": "code",
   "execution_count": 24,
   "metadata": {},
   "outputs": [],
   "source": [
    "with open(PyPoll_csv, newline=\"\") as csvfile:\n",
    "    csvreader = csv.reader(csvfile, delimiter=\",\")\n",
    "    csv_header = next(csvreader)\n",
    "    for row in csvreader:\n",
    "        count = count + 1\n",
    "        candidatelist.append(row[2])\n",
    "        \n",
    "    for x in set(candidatelist):\n",
    "        unique_candidate.append(x)\n",
    "        y = candidatelist.count(x)\n",
    "        vote_count.append(y)\n",
    "        z = (y/count)*100\n",
    "        vote_percent.append(z)\n",
    "        \n",
    "    winning_vote_count = max(vote_count)\n",
    "    winner = unique_candidate[vote_count.index(winning_vote_count)]"
   ]
  },
  {
   "cell_type": "code",
   "execution_count": 25,
   "metadata": {},
   "outputs": [
    {
     "name": "stdout",
     "output_type": "stream",
     "text": [
      "-------------------------\n",
      "Election Results\n",
      "-------------------------\n",
      "Total Votes :3521001\n",
      "-------------------------\n",
      "O'Tooley: 2.999999147969569% (105630)\n",
      "Correy: 19.999994319797125% (704200)\n",
      "Khan: 63.00001050837531% (2218231)\n",
      "Li: 13.999996023857989% (492940)\n",
      "-------------------------\n",
      "The winner is: Khan\n",
      "-------------------------\n"
     ]
    }
   ],
   "source": [
    "print(\"-------------------------\")\n",
    "print(\"Election Results\")   \n",
    "print(\"-------------------------\")\n",
    "print(\"Total Votes :\" + str(count))    \n",
    "print(\"-------------------------\")\n",
    "for i in range(len(unique_candidate)):\n",
    "            print(unique_candidate[i] + \": \" + str(vote_percent[i]) +\"% (\" + str(vote_count[i])+ \")\")\n",
    "print(\"-------------------------\")\n",
    "print(\"The winner is: \" + winner)\n",
    "print(\"-------------------------\")"
   ]
  }
 ],
 "metadata": {
  "kernelspec": {
   "display_name": "Python 3",
   "language": "python",
   "name": "python3"
  },
  "language_info": {
   "codemirror_mode": {
    "name": "ipython",
    "version": 3
   },
   "file_extension": ".py",
   "mimetype": "text/x-python",
   "name": "python",
   "nbconvert_exporter": "python",
   "pygments_lexer": "ipython3",
   "version": "3.6.8"
  }
 },
 "nbformat": 4,
 "nbformat_minor": 2
}
